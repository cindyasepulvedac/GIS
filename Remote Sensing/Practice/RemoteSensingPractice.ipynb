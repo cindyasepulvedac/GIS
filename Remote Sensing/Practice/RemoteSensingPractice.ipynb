{
 "cells": [
  {
   "cell_type": "markdown",
   "metadata": {},
   "source": [
    "-----\n",
    "Hurricane Katrina image analysis\n",
    "-----"
   ]
  },
  {
   "cell_type": "markdown",
   "metadata": {},
   "source": [
    "\"Hurricane Katrina was a large and destructive Category 5 Atlantic hurricane that caused over 1,800 fatalities and $125 billion in damage in late August 2005, especially in the city of New Orleans and the surrounding areas.\" Wikipedia\n",
    "\n",
    "As New Orleans was the city of greatest impact by Hurricane Katrina, this place was chose to perform this preliminary analysis. Defining the point of interest according to New Orleans coordinates 'latitude = 29.9510658' and 'longitude = -90.0715323', and a time range from '2005-08-01' to '2005-10-02'. Since the satellite used, Landsat 7, takes picture every 16 days (2 weeks), this time range was selected in order to evaluate the images before, during and after the hurricane. "
   ]
  },
  {
   "cell_type": "code",
   "execution_count": 1,
   "metadata": {},
   "outputs": [],
   "source": [
    "##Importing packages\n",
    "import pandas as pd\n",
    "import geopandas as gpd\n",
    "import ee \n",
    "\n",
    "# allow images to display in the notebook\n",
    "from IPython.display import Image"
   ]
  },
  {
   "cell_type": "code",
   "execution_count": 2,
   "metadata": {},
   "outputs": [
    {
     "data": {
      "text/html": [
       "<p>To authorize access needed by Earth Engine, open the following\n",
       "        URL in a web browser and follow the instructions:</p>\n",
       "        <p><a href=https://code.earthengine.google.com/client-auth?scopes=https%3A//www.googleapis.com/auth/earthengine%20https%3A//www.googleapis.com/auth/devstorage.full_control&request_id=O02HV2YPH6eJsL0HV6m5NkOpL9te1lPAX_vmQup4LTQ&tc=xTl6Pir9GqfJGH3cuzS1BVYGG0GxtyiKx2DS3tCWJ1o&cc=HuWbXRD8-2Dl3IwBh6QOPRv5Rx_OYemsAF6covgFlJY>https://code.earthengine.google.com/client-auth?scopes=https%3A//www.googleapis.com/auth/earthengine%20https%3A//www.googleapis.com/auth/devstorage.full_control&request_id=O02HV2YPH6eJsL0HV6m5NkOpL9te1lPAX_vmQup4LTQ&tc=xTl6Pir9GqfJGH3cuzS1BVYGG0GxtyiKx2DS3tCWJ1o&cc=HuWbXRD8-2Dl3IwBh6QOPRv5Rx_OYemsAF6covgFlJY</a></p>\n",
       "        <p>The authorization workflow will generate a code, which you\n",
       "        should paste in the box below</p>\n",
       "        "
      ],
      "text/plain": [
       "<IPython.core.display.HTML object>"
      ]
     },
     "metadata": {},
     "output_type": "display_data"
    },
    {
     "name": "stdout",
     "output_type": "stream",
     "text": [
      "\n",
      "Successfully saved authorization token.\n"
     ]
    }
   ],
   "source": [
    "##Before accessing Earth Engine to bring satellital images, I have to be authenticated, it can be via Google\n",
    "##For authentication ee packeage is used\n",
    "\n",
    "ee.Authenticate()\n",
    "ee.Initialize()"
   ]
  },
  {
   "cell_type": "markdown",
   "metadata": {},
   "source": [
    "----\n",
    "Defining filters\n",
    "-----"
   ]
  },
  {
   "cell_type": "markdown",
   "metadata": {},
   "source": [
    "----\n",
    "Defining parameters"
   ]
  },
  {
   "cell_type": "code",
   "execution_count": 3,
   "metadata": {},
   "outputs": [],
   "source": [
    "#Coordinates of the center of Hurricane Katrina\n",
    "latitude = 29.9510658\n",
    "longitude = -90.0715323\n",
    "\n",
    "#Setting the point of interest\n",
    "poi = ee.Geometry.Point(longitude, latitude)\n",
    "\n",
    "#Start date of range to filter for\n",
    "start_date = '2005-08-01'\n",
    "\n",
    "#End date of range to filter for\n",
    "end_date = '2005-10-02'"
   ]
  },
  {
   "cell_type": "markdown",
   "metadata": {},
   "source": [
    "---\n",
    "Bringning satellital images from landsat"
   ]
  },
  {
   "cell_type": "code",
   "execution_count": 4,
   "metadata": {},
   "outputs": [],
   "source": [
    "landsat = ee.ImageCollection(\"LANDSAT/LE07/C02/T1_L2\")\\\n",
    "            .filterBounds(poi)\\\n",
    "            .filterDate(start_date, end_date)"
   ]
  },
  {
   "cell_type": "code",
   "execution_count": 5,
   "metadata": {},
   "outputs": [
    {
     "name": "stdout",
     "output_type": "stream",
     "text": [
      "Total images: 4\n"
     ]
    }
   ],
   "source": [
    "#Number of images got within the given date range\n",
    "print('Total images:', landsat.size().getInfo())"
   ]
  },
  {
   "cell_type": "code",
   "execution_count": 6,
   "metadata": {},
   "outputs": [
    {
     "data": {
      "text/plain": [
       "{'type': 'Image',\n",
       " 'bands': [{'id': 'SR_B1',\n",
       "   'data_type': {'type': 'PixelType',\n",
       "    'precision': 'int',\n",
       "    'min': 0,\n",
       "    'max': 65535},\n",
       "   'dimensions': [7741, 7031],\n",
       "   'crs': 'EPSG:32615',\n",
       "   'crs_transform': [30, 0, 656685, 0, -30, 3462015]},\n",
       "  {'id': 'SR_B2',\n",
       "   'data_type': {'type': 'PixelType',\n",
       "    'precision': 'int',\n",
       "    'min': 0,\n",
       "    'max': 65535},\n",
       "   'dimensions': [7741, 7031],\n",
       "   'crs': 'EPSG:32615',\n",
       "   'crs_transform': [30, 0, 656685, 0, -30, 3462015]},\n",
       "  {'id': 'SR_B3',\n",
       "   'data_type': {'type': 'PixelType',\n",
       "    'precision': 'int',\n",
       "    'min': 0,\n",
       "    'max': 65535},\n",
       "   'dimensions': [7741, 7031],\n",
       "   'crs': 'EPSG:32615',\n",
       "   'crs_transform': [30, 0, 656685, 0, -30, 3462015]},\n",
       "  {'id': 'SR_B4',\n",
       "   'data_type': {'type': 'PixelType',\n",
       "    'precision': 'int',\n",
       "    'min': 0,\n",
       "    'max': 65535},\n",
       "   'dimensions': [7741, 7031],\n",
       "   'crs': 'EPSG:32615',\n",
       "   'crs_transform': [30, 0, 656685, 0, -30, 3462015]},\n",
       "  {'id': 'SR_B5',\n",
       "   'data_type': {'type': 'PixelType',\n",
       "    'precision': 'int',\n",
       "    'min': 0,\n",
       "    'max': 65535},\n",
       "   'dimensions': [7741, 7031],\n",
       "   'crs': 'EPSG:32615',\n",
       "   'crs_transform': [30, 0, 656685, 0, -30, 3462015]},\n",
       "  {'id': 'SR_B7',\n",
       "   'data_type': {'type': 'PixelType',\n",
       "    'precision': 'int',\n",
       "    'min': 0,\n",
       "    'max': 65535},\n",
       "   'dimensions': [7741, 7031],\n",
       "   'crs': 'EPSG:32615',\n",
       "   'crs_transform': [30, 0, 656685, 0, -30, 3462015]},\n",
       "  {'id': 'SR_ATMOS_OPACITY',\n",
       "   'data_type': {'type': 'PixelType',\n",
       "    'precision': 'int',\n",
       "    'min': -32768,\n",
       "    'max': 32767},\n",
       "   'dimensions': [7741, 7031],\n",
       "   'crs': 'EPSG:32615',\n",
       "   'crs_transform': [30, 0, 656685, 0, -30, 3462015]},\n",
       "  {'id': 'SR_CLOUD_QA',\n",
       "   'data_type': {'type': 'PixelType',\n",
       "    'precision': 'int',\n",
       "    'min': 0,\n",
       "    'max': 255},\n",
       "   'dimensions': [7741, 7031],\n",
       "   'crs': 'EPSG:32615',\n",
       "   'crs_transform': [30, 0, 656685, 0, -30, 3462015]},\n",
       "  {'id': 'ST_B6',\n",
       "   'data_type': {'type': 'PixelType',\n",
       "    'precision': 'int',\n",
       "    'min': 0,\n",
       "    'max': 65535},\n",
       "   'dimensions': [7741, 7031],\n",
       "   'crs': 'EPSG:32615',\n",
       "   'crs_transform': [30, 0, 656685, 0, -30, 3462015]},\n",
       "  {'id': 'ST_ATRAN',\n",
       "   'data_type': {'type': 'PixelType',\n",
       "    'precision': 'int',\n",
       "    'min': -32768,\n",
       "    'max': 32767},\n",
       "   'dimensions': [7741, 7031],\n",
       "   'crs': 'EPSG:32615',\n",
       "   'crs_transform': [30, 0, 656685, 0, -30, 3462015]},\n",
       "  {'id': 'ST_CDIST',\n",
       "   'data_type': {'type': 'PixelType',\n",
       "    'precision': 'int',\n",
       "    'min': -32768,\n",
       "    'max': 32767},\n",
       "   'dimensions': [7741, 7031],\n",
       "   'crs': 'EPSG:32615',\n",
       "   'crs_transform': [30, 0, 656685, 0, -30, 3462015]},\n",
       "  {'id': 'ST_DRAD',\n",
       "   'data_type': {'type': 'PixelType',\n",
       "    'precision': 'int',\n",
       "    'min': -32768,\n",
       "    'max': 32767},\n",
       "   'dimensions': [7741, 7031],\n",
       "   'crs': 'EPSG:32615',\n",
       "   'crs_transform': [30, 0, 656685, 0, -30, 3462015]},\n",
       "  {'id': 'ST_EMIS',\n",
       "   'data_type': {'type': 'PixelType',\n",
       "    'precision': 'int',\n",
       "    'min': -32768,\n",
       "    'max': 32767},\n",
       "   'dimensions': [7741, 7031],\n",
       "   'crs': 'EPSG:32615',\n",
       "   'crs_transform': [30, 0, 656685, 0, -30, 3462015]},\n",
       "  {'id': 'ST_EMSD',\n",
       "   'data_type': {'type': 'PixelType',\n",
       "    'precision': 'int',\n",
       "    'min': -32768,\n",
       "    'max': 32767},\n",
       "   'dimensions': [7741, 7031],\n",
       "   'crs': 'EPSG:32615',\n",
       "   'crs_transform': [30, 0, 656685, 0, -30, 3462015]},\n",
       "  {'id': 'ST_QA',\n",
       "   'data_type': {'type': 'PixelType',\n",
       "    'precision': 'int',\n",
       "    'min': -32768,\n",
       "    'max': 32767},\n",
       "   'dimensions': [7741, 7031],\n",
       "   'crs': 'EPSG:32615',\n",
       "   'crs_transform': [30, 0, 656685, 0, -30, 3462015]},\n",
       "  {'id': 'ST_TRAD',\n",
       "   'data_type': {'type': 'PixelType',\n",
       "    'precision': 'int',\n",
       "    'min': -32768,\n",
       "    'max': 32767},\n",
       "   'dimensions': [7741, 7031],\n",
       "   'crs': 'EPSG:32615',\n",
       "   'crs_transform': [30, 0, 656685, 0, -30, 3462015]},\n",
       "  {'id': 'ST_URAD',\n",
       "   'data_type': {'type': 'PixelType',\n",
       "    'precision': 'int',\n",
       "    'min': -32768,\n",
       "    'max': 32767},\n",
       "   'dimensions': [7741, 7031],\n",
       "   'crs': 'EPSG:32615',\n",
       "   'crs_transform': [30, 0, 656685, 0, -30, 3462015]},\n",
       "  {'id': 'QA_PIXEL',\n",
       "   'data_type': {'type': 'PixelType',\n",
       "    'precision': 'int',\n",
       "    'min': 0,\n",
       "    'max': 65535},\n",
       "   'dimensions': [7741, 7031],\n",
       "   'crs': 'EPSG:32615',\n",
       "   'crs_transform': [30, 0, 656685, 0, -30, 3462015]},\n",
       "  {'id': 'QA_RADSAT',\n",
       "   'data_type': {'type': 'PixelType',\n",
       "    'precision': 'int',\n",
       "    'min': 0,\n",
       "    'max': 65535},\n",
       "   'dimensions': [7741, 7031],\n",
       "   'crs': 'EPSG:32615',\n",
       "   'crs_transform': [30, 0, 656685, 0, -30, 3462015]}],\n",
       " 'id': 'LANDSAT/LE07/C02/T1_L2/LE07_022039_20050814',\n",
       " 'version': 1622032286731558,\n",
       " 'properties': {'IMAGE_QUALITY': 9,\n",
       "  'WRS_TYPE': 2,\n",
       "  'CORRECTION_GAIN_BAND_6_VCID_2': 'CPF',\n",
       "  'CORRECTION_GAIN_BAND_6_VCID_1': 'CPF',\n",
       "  'CORRECTION_GAIN_BAND_2': 'CPF',\n",
       "  'CORRECTION_GAIN_BAND_1': 'CPF',\n",
       "  'TEMPERATURE_ADD_BAND_ST_B6': 149,\n",
       "  'system:footprint': {'type': 'LinearRing',\n",
       "   'coordinates': [[-88.9909152883586, 30.974877458003483],\n",
       "    [-88.98877025602432, 30.983937922497567],\n",
       "    [-89.08783360582856, 30.999250934630272],\n",
       "    [-90.28974765322015, 31.1783732233688],\n",
       "    [-90.9023413829249, 31.26511675770624],\n",
       "    [-90.90488609783546, 31.25649200983431],\n",
       "    [-91.07478245703479, 30.59313244212263],\n",
       "    [-91.28954196483318, 29.737022689004466],\n",
       "    [-91.30684364959731, 29.66713580492273],\n",
       "    [-91.31559504653141, 29.63085061659727],\n",
       "    [-91.31355097027922, 29.629378785377426],\n",
       "    [-89.43144933808124, 29.352620232834475],\n",
       "    [-89.41390593634767, 29.416446076914813],\n",
       "    [-89.31471508486385, 29.782652552776742],\n",
       "    [-89.25322109447441, 30.009181691592165],\n",
       "    [-89.23191799213542, 30.08754230080685],\n",
       "    [-89.11969771518125, 30.501394421415547],\n",
       "    [-89.00632863497124, 30.915047663879648],\n",
       "    [-88.9909152883586, 30.974877458003483]]},\n",
       "  'REFLECTIVE_SAMPLES': 7741,\n",
       "  'TEMPERATURE_MINIMUM_BAND_ST_B6': 149.003418,\n",
       "  'CORRECTION_GAIN_BAND_8': 'CPF',\n",
       "  'CORRECTION_GAIN_BAND_7': 'CPF',\n",
       "  'CORRECTION_GAIN_BAND_5': 'CPF',\n",
       "  'SUN_AZIMUTH': 118.18880026,\n",
       "  'CORRECTION_GAIN_BAND_4': 'CPF',\n",
       "  'CORRECTION_GAIN_BAND_3': 'CPF',\n",
       "  'GAIN_CHANGE_BAND_7': 'HH',\n",
       "  'GAIN_CHANGE_BAND_8': 'LL',\n",
       "  'GAIN_CHANGE_BAND_5': 'HH',\n",
       "  'DATE_ACQUIRED': '2005-08-14',\n",
       "  'GAIN_CHANGE_BAND_3': 'HH',\n",
       "  'ELLIPSOID': 'WGS84',\n",
       "  'GAIN_CHANGE_BAND_4': 'LL',\n",
       "  'GAIN_CHANGE_BAND_1': 'HH',\n",
       "  'GAIN_CHANGE_BAND_2': 'HH',\n",
       "  'SENSOR_MODE': 'SAM',\n",
       "  'STATION_ID': 'EDC',\n",
       "  'DATA_SOURCE_REANALYSIS': 'GEOS-5 FP-IT',\n",
       "  'ORIENTATION': 'NORTH_UP',\n",
       "  'WRS_ROW': 39,\n",
       "  'GAIN_BAND_6_VCID_2': 'H',\n",
       "  'GAIN_BAND_6_VCID_1': 'L',\n",
       "  'CLOUD_COVER': 15,\n",
       "  'COLLECTION_CATEGORY': 'T1',\n",
       "  'GRID_CELL_SIZE_REFLECTIVE': 30,\n",
       "  'ALGORITHM_SOURCE_SURFACE_TEMPERATURE': 'st_1.3.0',\n",
       "  'CLOUD_COVER_LAND': 16,\n",
       "  'GEOMETRIC_RMSE_MODEL': 4.649,\n",
       "  'COLLECTION_NUMBER': 2,\n",
       "  'DATA_SOURCE_WATER_VAPOR': 'NCEP',\n",
       "  'LANDSAT_SCENE_ID': 'LE70220392005226EDC00',\n",
       "  'WRS_PATH': 22,\n",
       "  'L1_PROCESSING_SOFTWARE_VERSION': 'LPGS_15.3.1c',\n",
       "  'GEOMETRIC_RMSE_MODEL_Y': 3.255,\n",
       "  'REFLECTIVE_LINES': 7031,\n",
       "  'GEOMETRIC_RMSE_MODEL_X': 3.32,\n",
       "  'system:asset_size': 549365661,\n",
       "  'DATA_SOURCE_AIR_TEMPERATURE': 'NCEP',\n",
       "  'system:index': 'LE07_022039_20050814',\n",
       "  'DATA_SOURCE_ELEVATION': 'GLS2000',\n",
       "  'SENSOR_ANOMALIES': 'NONE',\n",
       "  'GAIN_BAND_4': 'L',\n",
       "  'REFLECTANCE_ADD_BAND_1': -0.2,\n",
       "  'GAIN_BAND_5': 'H',\n",
       "  'REFLECTANCE_ADD_BAND_2': -0.2,\n",
       "  'DATUM': 'WGS84',\n",
       "  'GAIN_BAND_2': 'H',\n",
       "  'REFLECTANCE_ADD_BAND_3': -0.2,\n",
       "  'GAIN_BAND_3': 'H',\n",
       "  'REFLECTANCE_ADD_BAND_4': -0.2,\n",
       "  'GAIN_BAND_8': 'L',\n",
       "  'REFLECTANCE_ADD_BAND_5': -0.2,\n",
       "  'REFLECTANCE_ADD_BAND_7': -0.2,\n",
       "  'GAIN_BAND_7': 'H',\n",
       "  'GROUND_CONTROL_POINTS_VERSION': 5,\n",
       "  'GAIN_BAND_1': 'H',\n",
       "  'CORRECTION_BIAS_BAND_2': 'INTERNAL_CALIBRATION',\n",
       "  'CORRECTION_BIAS_BAND_1': 'INTERNAL_CALIBRATION',\n",
       "  'CORRECTION_BIAS_BAND_4': 'INTERNAL_CALIBRATION',\n",
       "  'CORRECTION_BIAS_BAND_3': 'INTERNAL_CALIBRATION',\n",
       "  'GAIN_CHANGE_SCAN_BAND_6_VCID_1': 0,\n",
       "  'UTM_ZONE': 15,\n",
       "  'GAIN_CHANGE_SCAN_BAND_6_VCID_2': 0,\n",
       "  'system:time_end': 1124036486003,\n",
       "  'DATA_SOURCE_PRESSURE': 'NCEP',\n",
       "  'LANDSAT_PRODUCT_ID': 'LE07_L2SP_022039_20050814_20200914_02_T1',\n",
       "  'REFLECTANCE_MULT_BAND_7': 2.75e-05,\n",
       "  'system:time_start': 1124036486003,\n",
       "  'L1_PROCESSING_LEVEL': 'L1TP',\n",
       "  'PROCESSING_SOFTWARE_VERSION': 'LPGS_15.3.1c',\n",
       "  'L1_DATE_PRODUCT_GENERATED': '2020-09-14T18:49:34Z',\n",
       "  'EPHEMERIS_TYPE': 'DEFINITIVE',\n",
       "  'CORRECTION_BIAS_BAND_6_VCID_2': 'INTERNAL_CALIBRATION',\n",
       "  'REFLECTANCE_MULT_BAND_1': 2.75e-05,\n",
       "  'CORRECTION_BIAS_BAND_6_VCID_1': 'INTERNAL_CALIBRATION',\n",
       "  'REFLECTANCE_MULT_BAND_3': 2.75e-05,\n",
       "  'CORRECTION_BIAS_BAND_5': 'INTERNAL_CALIBRATION',\n",
       "  'REFLECTANCE_MULT_BAND_2': 2.75e-05,\n",
       "  'CORRECTION_BIAS_BAND_8': 'INTERNAL_CALIBRATION',\n",
       "  'REFLECTANCE_MULT_BAND_5': 2.75e-05,\n",
       "  'CORRECTION_BIAS_BAND_7': 'INTERNAL_CALIBRATION',\n",
       "  'REFLECTANCE_MULT_BAND_4': 2.75e-05,\n",
       "  'THERMAL_LINES': 7031,\n",
       "  'GAIN_CHANGE_SCAN_BAND_1': 0,\n",
       "  'GRID_CELL_SIZE_THERMAL': 30,\n",
       "  'GAIN_CHANGE_SCAN_BAND_2': 0,\n",
       "  'GAIN_CHANGE_SCAN_BAND_3': 0,\n",
       "  'GAIN_CHANGE_SCAN_BAND_4': 0,\n",
       "  'GAIN_CHANGE_SCAN_BAND_5': 0,\n",
       "  'REQUEST_ID': 'L2',\n",
       "  'EARTH_SUN_DISTANCE': 1.0128853,\n",
       "  'TEMPERATURE_MAXIMUM_BAND_ST_B6': 372.999941,\n",
       "  'SCENE_CENTER_TIME': '16:21:26.0035861Z',\n",
       "  'SUN_ELEVATION': 61.11782805,\n",
       "  'SATURATION_BAND_6_VCID_1': 'N',\n",
       "  'SATURATION_BAND_6_VCID_2': 'Y',\n",
       "  'DATE_PRODUCT_GENERATED': 1600110349000,\n",
       "  'L1_REQUEST_ID': 'L2',\n",
       "  'DATA_SOURCE_OZONE': 'TOMS',\n",
       "  'SATURATION_BAND_1': 'Y',\n",
       "  'SENSOR_MODE_SLC': 'OFF',\n",
       "  'SATURATION_BAND_2': 'Y',\n",
       "  'SATURATION_BAND_3': 'Y',\n",
       "  'SATURATION_BAND_4': 'Y',\n",
       "  'SATURATION_BAND_5': 'Y',\n",
       "  'MAP_PROJECTION': 'UTM',\n",
       "  'SENSOR_ID': 'ETM',\n",
       "  'SATURATION_BAND_7': 'Y',\n",
       "  'TEMPERATURE_MULT_BAND_ST_B6': 0.00341802,\n",
       "  'SATURATION_BAND_8': 'N',\n",
       "  'L1_LANDSAT_PRODUCT_ID': 'LE07_L1TP_022039_20050814_20200914_02_T1',\n",
       "  'PROCESSING_LEVEL': 'L2SP',\n",
       "  'ALGORITHM_SOURCE_SURFACE_REFLECTANCE': 'LEDAPS_3.4.0',\n",
       "  'GROUND_CONTROL_POINTS_MODEL': 554,\n",
       "  'SPACECRAFT_ID': 'LANDSAT_7',\n",
       "  'GAIN_CHANGE_SCAN_BAND_7': 0,\n",
       "  'GAIN_CHANGE_SCAN_BAND_8': 0,\n",
       "  'GAIN_CHANGE_BAND_6_VCID_1': 'LL',\n",
       "  'GAIN_CHANGE_BAND_6_VCID_2': 'HH',\n",
       "  'THERMAL_SAMPLES': 7741}}"
      ]
     },
     "execution_count": 6,
     "metadata": {},
     "output_type": "execute_result"
    }
   ],
   "source": [
    "#Information about the first image in the collection\n",
    "landsat.first().getInfo()"
   ]
  },
  {
   "cell_type": "code",
   "execution_count": 7,
   "metadata": {},
   "outputs": [
    {
     "data": {
      "text/plain": [
       "15"
      ]
     },
     "execution_count": 7,
     "metadata": {},
     "output_type": "execute_result"
    }
   ],
   "source": [
    "#Information about the cloud cover\n",
    "landsat.first().get('CLOUD_COVER').getInfo()"
   ]
  },
  {
   "cell_type": "code",
   "execution_count": 8,
   "metadata": {},
   "outputs": [
    {
     "data": {
      "text/plain": [
       "'2005-08-14'"
      ]
     },
     "execution_count": 8,
     "metadata": {},
     "output_type": "execute_result"
    }
   ],
   "source": [
    "#When was the first image taken\n",
    "landsat.first().get('DATE_ACQUIRED').getInfo()"
   ]
  },
  {
   "cell_type": "markdown",
   "metadata": {},
   "source": [
    "This means that there is only one image before Hurrivane Katrina started, considering the given rage"
   ]
  },
  {
   "cell_type": "code",
   "execution_count": 9,
   "metadata": {},
   "outputs": [
    {
     "data": {
      "text/plain": [
       "['SR_B1',\n",
       " 'SR_B2',\n",
       " 'SR_B3',\n",
       " 'SR_B4',\n",
       " 'SR_B5',\n",
       " 'SR_B7',\n",
       " 'SR_ATMOS_OPACITY',\n",
       " 'SR_CLOUD_QA',\n",
       " 'ST_B6',\n",
       " 'ST_ATRAN',\n",
       " 'ST_CDIST',\n",
       " 'ST_DRAD',\n",
       " 'ST_EMIS',\n",
       " 'ST_EMSD',\n",
       " 'ST_QA',\n",
       " 'ST_TRAD',\n",
       " 'ST_URAD',\n",
       " 'QA_PIXEL',\n",
       " 'QA_RADSAT']"
      ]
     },
     "execution_count": 9,
     "metadata": {},
     "output_type": "execute_result"
    }
   ],
   "source": [
    "#What bands did we get?\n",
    "landsat.first().bandNames().getInfo()"
   ]
  },
  {
   "cell_type": "code",
   "execution_count": 10,
   "metadata": {},
   "outputs": [],
   "source": [
    "#Creating a list for all the images\n",
    "landsat_list = landsat.toList(landsat.size())"
   ]
  },
  {
   "cell_type": "markdown",
   "metadata": {},
   "source": [
    "---\n",
    "Display satellite image"
   ]
  },
  {
   "cell_type": "code",
   "execution_count": 13,
   "metadata": {},
   "outputs": [],
   "source": [
    "#Setting parameters\n",
    "parameters1 = {\n",
    "                'min': 7000,\n",
    "                'max': 16000,\n",
    "                'dimensions': 800, # square size in pixels\n",
    "                'bands': ['SR_B3', 'SR_B2', 'SR_B1'] # bands to display (r,g,b)\n",
    "             }"
   ]
  },
  {
   "cell_type": "code",
   "execution_count": 19,
   "metadata": {},
   "outputs": [
    {
     "name": "stdout",
     "output_type": "stream",
     "text": [
      "Image # 0 2005-08-14 Cloud cover: 15\n"
     ]
    },
    {
     "data": {
      "text/html": [
       "<img src=\"https://earthengine.googleapis.com/v1alpha/projects/earthengine-legacy/thumbnails/30a9f084325f130ce80b6855d917fd9e-9d9373dc4d33505cff3866a88b48efac:getPixels\"/>"
      ],
      "text/plain": [
       "<IPython.core.display.Image object>"
      ]
     },
     "metadata": {},
     "output_type": "display_data"
    },
    {
     "name": "stdout",
     "output_type": "stream",
     "text": [
      "Image # 1 2005-08-30 Cloud cover: 29\n"
     ]
    },
    {
     "data": {
      "text/html": [
       "<img src=\"https://earthengine.googleapis.com/v1alpha/projects/earthengine-legacy/thumbnails/af53476564981a5bdb3600114955c001-7d0920ab00b51635229fb6914c2db06f:getPixels\"/>"
      ],
      "text/plain": [
       "<IPython.core.display.Image object>"
      ]
     },
     "metadata": {},
     "output_type": "display_data"
    },
    {
     "name": "stdout",
     "output_type": "stream",
     "text": [
      "Image # 2 2005-09-15 Cloud cover: 6\n"
     ]
    },
    {
     "data": {
      "text/html": [
       "<img src=\"https://earthengine.googleapis.com/v1alpha/projects/earthengine-legacy/thumbnails/0e5f2970761218d5c295df5d0f722a49-84d2751c65fac18872e3002a046dee16:getPixels\"/>"
      ],
      "text/plain": [
       "<IPython.core.display.Image object>"
      ]
     },
     "metadata": {},
     "output_type": "display_data"
    },
    {
     "name": "stdout",
     "output_type": "stream",
     "text": [
      "Image # 3 2005-10-01 Cloud cover: 28\n"
     ]
    },
    {
     "data": {
      "text/html": [
       "<img src=\"https://earthengine.googleapis.com/v1alpha/projects/earthengine-legacy/thumbnails/6851095da68741127532f515e6cadbd5-ad0e26d6079d444e1566a192ffa55835:getPixels\"/>"
      ],
      "text/plain": [
       "<IPython.core.display.Image object>"
      ]
     },
     "metadata": {},
     "output_type": "display_data"
    }
   ],
   "source": [
    "# create an empty data container\n",
    "data1 = []\n",
    "\n",
    "# loop through each image and display it\n",
    "for i in range(landsat.size().getInfo()):\n",
    "\n",
    "    # when was this image taken?\n",
    "    date1 = ee.Image(landsat_list.get(i)).get('DATE_ACQUIRED').getInfo()\n",
    "    \n",
    "    # cloud cover\n",
    "    cloud1 = ee.Image(landsat_list.get(i)).get('CLOUD_COVER').getInfo()\n",
    "    \n",
    "    # print the image info\n",
    "    print('Image #',i,date1,'Cloud cover:',cloud1)\n",
    "    \n",
    "    # display the image\n",
    "    display(Image(url = ee.Image(landsat_list.get(i)).getThumbUrl(parameters1)))\n",
    "\n",
    "    # data to list\n",
    "    this_data1 = [i,date1,cloud1]\n",
    "\n",
    "    # append the data \n",
    "    data1.append(this_data1)\n",
    "    \n",
    "\n",
    "# Create the pandas DataFrame\n",
    "df1 = pd.DataFrame(data1, columns = ['Image #', 'Date', 'Cloud Cover'])"
   ]
  },
  {
   "cell_type": "code",
   "execution_count": 20,
   "metadata": {},
   "outputs": [],
   "source": [
    "#Setting parameters\n",
    "#Band 4 (Near Infrared) -- Distinguish shorelines\n",
    "parameters2 = {\n",
    "                'min': 7000,\n",
    "                'max': 16000,\n",
    "                'dimensions': 800, # square size in pixels\n",
    "                'bands': ['SR_B4'] # bands to display (b)\n",
    "             }"
   ]
  },
  {
   "cell_type": "code",
   "execution_count": 21,
   "metadata": {},
   "outputs": [
    {
     "name": "stdout",
     "output_type": "stream",
     "text": [
      "Image # 0 2005-08-14 Cloud cover: 15\n"
     ]
    },
    {
     "data": {
      "text/html": [
       "<img src=\"https://earthengine.googleapis.com/v1alpha/projects/earthengine-legacy/thumbnails/1da40443cc7298c00838468d2f60a726-ea0b06cf4687c1bd89c2d12087f84dc7:getPixels\"/>"
      ],
      "text/plain": [
       "<IPython.core.display.Image object>"
      ]
     },
     "metadata": {},
     "output_type": "display_data"
    },
    {
     "name": "stdout",
     "output_type": "stream",
     "text": [
      "Image # 1 2005-08-30 Cloud cover: 29\n"
     ]
    },
    {
     "data": {
      "text/html": [
       "<img src=\"https://earthengine.googleapis.com/v1alpha/projects/earthengine-legacy/thumbnails/6f996a4d00e31bf6c1c9e3054536e8b7-d64a991443420f26ea85cf9c76c6a593:getPixels\"/>"
      ],
      "text/plain": [
       "<IPython.core.display.Image object>"
      ]
     },
     "metadata": {},
     "output_type": "display_data"
    },
    {
     "name": "stdout",
     "output_type": "stream",
     "text": [
      "Image # 2 2005-09-15 Cloud cover: 6\n"
     ]
    },
    {
     "data": {
      "text/html": [
       "<img src=\"https://earthengine.googleapis.com/v1alpha/projects/earthengine-legacy/thumbnails/bbfc258725088636fc0d349b7fc83204-b0fea3a84173a7d536259d31599f3082:getPixels\"/>"
      ],
      "text/plain": [
       "<IPython.core.display.Image object>"
      ]
     },
     "metadata": {},
     "output_type": "display_data"
    },
    {
     "name": "stdout",
     "output_type": "stream",
     "text": [
      "Image # 3 2005-10-01 Cloud cover: 28\n"
     ]
    },
    {
     "data": {
      "text/html": [
       "<img src=\"https://earthengine.googleapis.com/v1alpha/projects/earthengine-legacy/thumbnails/f65c021728c28c3d019c7ae6ca80ef6d-0a5552a0af3ebbd3da903b36847ecaa3:getPixels\"/>"
      ],
      "text/plain": [
       "<IPython.core.display.Image object>"
      ]
     },
     "metadata": {},
     "output_type": "display_data"
    }
   ],
   "source": [
    "# create an empty data container\n",
    "data2 = []\n",
    "\n",
    "# loop through each image and display it\n",
    "for i in range(landsat.size().getInfo()):\n",
    "\n",
    "    # when was this image taken?\n",
    "    date2 = ee.Image(landsat_list.get(i)).get('DATE_ACQUIRED').getInfo()\n",
    "    \n",
    "    # cloud cover\n",
    "    cloud2 = ee.Image(landsat_list.get(i)).get('CLOUD_COVER').getInfo()\n",
    "    \n",
    "    # print the image info\n",
    "    print('Image #',i,date2,'Cloud cover:',cloud2)\n",
    "    \n",
    "    # display the image\n",
    "    display(Image(url = ee.Image(landsat_list.get(i)).getThumbUrl(parameters2)))\n",
    "\n",
    "    # data to list\n",
    "    this_data2 = [i,date2,cloud2]\n",
    "\n",
    "    # append the data \n",
    "    data2.append(this_data2)\n",
    "    \n",
    "\n",
    "# Create the pandas DataFrame\n",
    "df2 = pd.DataFrame(data2, columns = ['Image #', 'Date', 'Cloud Cover'])"
   ]
  },
  {
   "cell_type": "code",
   "execution_count": 22,
   "metadata": {},
   "outputs": [],
   "source": [
    "# create a list of images we want (before, during, after)\n",
    "landsat_sequence = [0,1,2]"
   ]
  },
  {
   "cell_type": "code",
   "execution_count": 23,
   "metadata": {},
   "outputs": [],
   "source": [
    "# Define a region of interest with a buffer zone of 20 km\n",
    "roi = poi.buffer(10000) # meters"
   ]
  },
  {
   "cell_type": "code",
   "execution_count": 24,
   "metadata": {},
   "outputs": [],
   "source": [
    "parameters = {\n",
    "                'min': 6000,\n",
    "                'max': 16000,\n",
    "                'dimensions': 800,\n",
    "                'bands': ['SR_B3', 'SR_B2', 'SR_B1'],\n",
    "                'region':roi\n",
    "             }"
   ]
  },
  {
   "cell_type": "code",
   "execution_count": 25,
   "metadata": {},
   "outputs": [
    {
     "name": "stdout",
     "output_type": "stream",
     "text": [
      "Image # 0 2005-08-14 Cloud cover: 15\n"
     ]
    },
    {
     "data": {
      "text/html": [
       "<img src=\"https://earthengine.googleapis.com/v1alpha/projects/earthengine-legacy/thumbnails/982254ad9802e070c33e000513533052-ddf4c91d4663b73f511a67a484d50b1a:getPixels\"/>"
      ],
      "text/plain": [
       "<IPython.core.display.Image object>"
      ]
     },
     "metadata": {},
     "output_type": "display_data"
    },
    {
     "name": "stdout",
     "output_type": "stream",
     "text": [
      "Image # 1 2005-08-30 Cloud cover: 29\n"
     ]
    },
    {
     "data": {
      "text/html": [
       "<img src=\"https://earthengine.googleapis.com/v1alpha/projects/earthengine-legacy/thumbnails/c2e4b0d7a4dcb4302170ab3a99df55ec-4399f9ff0c07a85df9042dc072d3f28c:getPixels\"/>"
      ],
      "text/plain": [
       "<IPython.core.display.Image object>"
      ]
     },
     "metadata": {},
     "output_type": "display_data"
    },
    {
     "name": "stdout",
     "output_type": "stream",
     "text": [
      "Image # 2 2005-09-15 Cloud cover: 6\n"
     ]
    },
    {
     "data": {
      "text/html": [
       "<img src=\"https://earthengine.googleapis.com/v1alpha/projects/earthengine-legacy/thumbnails/feb6785b0e22a4950d846eab82e16e32-5b14efc0f469352ee43cd9fcae8d53c5:getPixels\"/>"
      ],
      "text/plain": [
       "<IPython.core.display.Image object>"
      ]
     },
     "metadata": {},
     "output_type": "display_data"
    }
   ],
   "source": [
    "for i in landsat_sequence:\n",
    "    \n",
    "    # when was this image taken?\n",
    "    date = ee.Image(landsat_list.get(i)).get('DATE_ACQUIRED').getInfo()\n",
    "\n",
    "    # cloud cover\n",
    "    cloud = ee.Image(landsat_list.get(i)).get('CLOUD_COVER').getInfo()\n",
    "    \n",
    "    print('Image #',i,date,'Cloud cover:',cloud)\n",
    "    \n",
    "    display(Image(url = ee.Image(landsat_list.get(i)).getThumbUrl(parameters)))"
   ]
  },
  {
   "cell_type": "markdown",
   "metadata": {},
   "source": [
    "Since it was not possible to visualize greater differences among the images befores, during and after the hurricane, and the flooded is not noticed due to the frequency of the images, a new POI will be analyzed. "
   ]
  },
  {
   "cell_type": "code",
   "execution_count": 26,
   "metadata": {},
   "outputs": [],
   "source": [
    "#17th Street Canal \n",
    "#A more specific point at New Orleans\n",
    "\n",
    "latitude2 = 30.006833306 \n",
    "longitude2 = -90.119832854\n",
    "\n",
    "poi2 = ee.Geometry.Point(longitude2, latitude2)\n"
   ]
  },
  {
   "cell_type": "code",
   "execution_count": 27,
   "metadata": {},
   "outputs": [],
   "source": [
    "# get the satellite data\n",
    "landsat2 = ee.ImageCollection(\"LANDSAT/LE07/C02/T1_L2\")\\\n",
    "            .filterBounds(poi2)\\\n",
    "            .filterDate(start_date,end_date)"
   ]
  },
  {
   "cell_type": "code",
   "execution_count": 29,
   "metadata": {},
   "outputs": [],
   "source": [
    "# put the images in a list\n",
    "landsat_list2 = landsat2.toList(landsat2.size());"
   ]
  },
  {
   "cell_type": "code",
   "execution_count": 30,
   "metadata": {},
   "outputs": [],
   "source": [
    "# set some parameters for the images\n",
    "parameters3 = {\n",
    "                'min': 7000,\n",
    "                'max': 16000,\n",
    "                'dimensions': 800, # square size in pixels\n",
    "                'bands': ['SR_B3', 'SR_B2', 'SR_B1'] # bands to display (r,g,b)\n",
    "             }"
   ]
  },
  {
   "cell_type": "code",
   "execution_count": 31,
   "metadata": {},
   "outputs": [
    {
     "name": "stdout",
     "output_type": "stream",
     "text": [
      "Image # 0 2005-08-14 Cloud cover: 15\n"
     ]
    },
    {
     "data": {
      "text/html": [
       "<img src=\"https://earthengine.googleapis.com/v1alpha/projects/earthengine-legacy/thumbnails/7858909fc348c469f7e8cadb672a9f9b-b784fb0163485307b0d2cfeebde096ac:getPixels\"/>"
      ],
      "text/plain": [
       "<IPython.core.display.Image object>"
      ]
     },
     "metadata": {},
     "output_type": "display_data"
    },
    {
     "name": "stdout",
     "output_type": "stream",
     "text": [
      "Image # 1 2005-08-30 Cloud cover: 29\n"
     ]
    },
    {
     "data": {
      "text/html": [
       "<img src=\"https://earthengine.googleapis.com/v1alpha/projects/earthengine-legacy/thumbnails/b5fe2b5b88a31a268cf3c41fa4556fb6-ae8889f200f5c7f686edf8a3218650a2:getPixels\"/>"
      ],
      "text/plain": [
       "<IPython.core.display.Image object>"
      ]
     },
     "metadata": {},
     "output_type": "display_data"
    },
    {
     "name": "stdout",
     "output_type": "stream",
     "text": [
      "Image # 2 2005-09-15 Cloud cover: 6\n"
     ]
    },
    {
     "data": {
      "text/html": [
       "<img src=\"https://earthengine.googleapis.com/v1alpha/projects/earthengine-legacy/thumbnails/392a2daf39a08cfa8ce8a30546ed8135-dda925126d0f6307c630c14cd06d1506:getPixels\"/>"
      ],
      "text/plain": [
       "<IPython.core.display.Image object>"
      ]
     },
     "metadata": {},
     "output_type": "display_data"
    },
    {
     "name": "stdout",
     "output_type": "stream",
     "text": [
      "Image # 3 2005-10-01 Cloud cover: 28\n"
     ]
    },
    {
     "data": {
      "text/html": [
       "<img src=\"https://earthengine.googleapis.com/v1alpha/projects/earthengine-legacy/thumbnails/b29bb8a4ee1b6f7ce6eae6e04eccd8b6-7c3fc4126616646467f15d3ac662bdbd:getPixels\"/>"
      ],
      "text/plain": [
       "<IPython.core.display.Image object>"
      ]
     },
     "metadata": {},
     "output_type": "display_data"
    }
   ],
   "source": [
    "# create an empty data container\n",
    "data3 = []\n",
    "\n",
    "# loop through each image and display it\n",
    "for i in range(landsat2.size().getInfo()):\n",
    "\n",
    "    # when was this image taken?\n",
    "    date3 = ee.Image(landsat_list2.get(i)).get('DATE_ACQUIRED').getInfo()\n",
    "    \n",
    "    # cloud cover\n",
    "    cloud3 = ee.Image(landsat_list2.get(i)).get('CLOUD_COVER').getInfo()\n",
    "    \n",
    "    # print the image info\n",
    "    print('Image #',i,date3,'Cloud cover:',cloud3)\n",
    "    \n",
    "    # display the image\n",
    "    display(Image(url = ee.Image(landsat_list2.get(i)).getThumbUrl(parameters3)))\n",
    "\n",
    "    # data to list\n",
    "    this_data3 = [i,date3,cloud3]\n",
    "\n",
    "    # append the data \n",
    "    data3.append(this_data3)\n",
    "    \n",
    "\n",
    "# Create the pandas DataFrame\n",
    "df3 = pd.DataFrame(data3, columns = ['Image #', 'Date', 'Cloud Cover'])"
   ]
  },
  {
   "cell_type": "markdown",
   "metadata": {},
   "source": [
    "It is noticed that by the date of occurence of the Hurricane Katrina the cloud cover near Missisipi river is high and there is not clear the results from the images, in relation to the differences in the shores before and after the event. Even though, neither before or after it can be visualize an affectation of the shorelines. "
   ]
  },
  {
   "cell_type": "markdown",
   "metadata": {},
   "source": []
  }
 ],
 "metadata": {
  "interpreter": {
   "hash": "849fcf6abe94ca689113d9bbea066690a51bfa631ae50ceb3405e4bc54678f10"
  },
  "kernelspec": {
   "display_name": "Python 3.10.4 64-bit",
   "language": "python",
   "name": "python3"
  },
  "language_info": {
   "codemirror_mode": {
    "name": "ipython",
    "version": 3
   },
   "file_extension": ".py",
   "mimetype": "text/x-python",
   "name": "python",
   "nbconvert_exporter": "python",
   "pygments_lexer": "ipython3",
   "version": "3.9.11"
  },
  "orig_nbformat": 4
 },
 "nbformat": 4,
 "nbformat_minor": 2
}
