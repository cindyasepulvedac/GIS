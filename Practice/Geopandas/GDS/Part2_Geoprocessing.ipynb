{
  "cells": [
    {
      "cell_type": "markdown",
      "metadata": {
        "colab_type": "text",
        "id": "view-in-github"
      },
      "source": [
        "<a href=\"https://colab.research.google.com/github/shakasom/GDS/blob/master/Part2_Geoprocessing.ipynb\" target=\"_parent\"><img src=\"https://colab.research.google.com/assets/colab-badge.svg\" alt=\"Open In Colab\"/></a>"
      ]
    },
    {
      "cell_type": "markdown",
      "metadata": {
        "colab_type": "text",
        "id": "9z1X7wzzaFrT"
      },
      "source": [
        "In this tutorial part, we will learn how to perform geoprocesing tasks in Python by performing several spatial data processing and analysis techniques with Geopandas.\n",
        "\n",
        "### Learning Objectives:\n",
        "1. Understand GeodataFrames and Geoseries\n",
        "2. Perform Table join and Spatial Join\n",
        "3. Carry out buffer and overlay analysis"
      ]
    },
    {
      "cell_type": "code",
      "execution_count": null,
      "metadata": {
        "colab": {},
        "colab_type": "code",
        "id": "9KYij14Gcuv3",
        "vscode": {
          "languageId": "python"
        }
      },
      "outputs": [],
      "source": [
        "%%time \n",
        "\n",
        "# Important library for many geopython libraries\n",
        "!apt install gdal-bin python-gdal python3-gdal \n",
        "# Install rtree - Geopandas requirment\n",
        "!apt install python3-rtree \n",
        "# Install Geopandas\n",
        "!pip install git+git://github.com/geopandas/geopandas.git\n",
        "# Install descartes - Geopandas requirment\n",
        "!pip install descartes \n",
        "# Install Folium for Geographic data visualization\n",
        "!pip install folium\n",
        "# Install plotlyExpress\n",
        "!pip install plotly_express"
      ]
    },
    {
      "cell_type": "markdown",
      "metadata": {
        "colab_type": "text",
        "id": "E4_CRf37c8nZ"
      },
      "source": [
        "## 1. GeodataFrame & Geoseries\n",
        "\n",
        "You have already seen how to load geographic data with Geopandas. Once you load the data, what we get is a table with geographic geometries. The geographic geometries allow us to perform spatial operations in addition to the typical tabular data analysis in pandas or simple excel.\n",
        "\n",
        "If you have more than one column, it is called a Geodataframe. If it contains only one single column (1 Dimensional), then it is called Geoseries. This is similar to Pandas Dataframe and Series if you are familiar. Let us see how they are different."
      ]
    },
    {
      "cell_type": "code",
      "execution_count": null,
      "metadata": {
        "colab": {},
        "colab_type": "code",
        "id": "XBtAZCPLdL51",
        "vscode": {
          "languageId": "python"
        }
      },
      "outputs": [],
      "source": [
        "\n",
        "import pandas as pd\n",
        "import numpy as np\n",
        "import geopandas as gpd\n",
        "from shapely.geometry import Point\n",
        "import matplotlib\n",
        "import matplotlib.pyplot as plt \n",
        "import folium\n",
        "import plotly_express as px"
      ]
    },
    {
      "cell_type": "code",
      "execution_count": 26,
      "metadata": {
        "colab": {
          "base_uri": "https://localhost:8080/",
          "height": 54
        },
        "colab_type": "code",
        "id": "m3HQvFcZdNCS",
        "outputId": "3b5b9c56-5265-4db0-c8e8-da09b3222fb9",
        "vscode": {
          "languageId": "python"
        }
      },
      "outputs": [
        {
          "name": "stdout",
          "output_type": "stream",
          "text": [
            "fatal: destination path 'GDS' already exists and is not an empty directory.\n"
          ]
        }
      ],
      "source": [
        "!git clone --recursive https://github.com/shakasom/GDS.git"
      ]
    },
    {
      "cell_type": "code",
      "execution_count": 27,
      "metadata": {
        "colab": {
          "base_uri": "https://localhost:8080/",
          "height": 34
        },
        "colab_type": "code",
        "id": "IpcE9srndYWx",
        "outputId": "638bae53-03da-4eca-84e2-b66866a9db61",
        "vscode": {
          "languageId": "python"
        }
      },
      "outputs": [
        {
          "name": "stdout",
          "output_type": "stream",
          "text": [
            "1-introData.zip\n"
          ]
        }
      ],
      "source": [
        "# Let us see what we have inside GDS Folder\n",
        "!ls GDS/dataset/"
      ]
    },
    {
      "cell_type": "code",
      "execution_count": 28,
      "metadata": {
        "colab": {
          "base_uri": "https://localhost:8080/",
          "height": 121
        },
        "colab_type": "code",
        "id": "LwsCjK8Adag5",
        "outputId": "31283a4e-378f-4011-d583-6e5487095577",
        "vscode": {
          "languageId": "python"
        }
      },
      "outputs": [
        {
          "name": "stdout",
          "output_type": "stream",
          "text": [
            "Archive:  GDS/dataset/1-introData.zip\n",
            "replace 1-introData/cities.geojson? [y]es, [n]o, [A]ll, [N]one, [r]ename: A\n",
            "  inflating: 1-introData/cities.geojson  \n",
            "  inflating: 1-introData/countries.gpkg  \n",
            "  inflating: 1-introData/rivers.gpkg  \n"
          ]
        }
      ],
      "source": [
        "# We have zipped data so let us unzip it\n",
        "!unzip GDS/dataset/1-introData.zip"
      ]
    },
    {
      "cell_type": "code",
      "execution_count": null,
      "metadata": {
        "colab": {},
        "colab_type": "code",
        "id": "NhBz9l6RdeMi",
        "vscode": {
          "languageId": "python"
        }
      },
      "outputs": [],
      "source": [
        "# Read the data\n",
        "\n",
        "# 1. Read Countries --> Geopackage Format\n",
        "file = '1-introData/countries.gpkg'\n",
        "countries = gpd.read_file(file)\n",
        "\n",
        "# Cities: Point data\n",
        "cities = gpd.read_file('1-introData/cities.geojson')"
      ]
    },
    {
      "cell_type": "code",
      "execution_count": 30,
      "metadata": {
        "colab": {
          "base_uri": "https://localhost:8080/",
          "height": 450
        },
        "colab_type": "code",
        "id": "WQHUehAjdhkU",
        "outputId": "a3111ff4-6f38-4ce1-f1ad-fd38fe1ba0ea",
        "vscode": {
          "languageId": "python"
        }
      },
      "outputs": [
        {
          "data": {
            "text/html": [
              "<div>\n",
              "<style scoped>\n",
              "    .dataframe tbody tr th:only-of-type {\n",
              "        vertical-align: middle;\n",
              "    }\n",
              "\n",
              "    .dataframe tbody tr th {\n",
              "        vertical-align: top;\n",
              "    }\n",
              "\n",
              "    .dataframe thead th {\n",
              "        text-align: right;\n",
              "    }\n",
              "</style>\n",
              "<table border=\"1\" class=\"dataframe\">\n",
              "  <thead>\n",
              "    <tr style=\"text-align: right;\">\n",
              "      <th></th>\n",
              "      <th>NAME</th>\n",
              "      <th>POP_EST</th>\n",
              "      <th>POP_RANK</th>\n",
              "      <th>GDP_MD_EST</th>\n",
              "      <th>POP_YEAR</th>\n",
              "      <th>LASTCENSUS</th>\n",
              "      <th>GDP_YEAR</th>\n",
              "      <th>ECONOMY</th>\n",
              "      <th>INCOME_GRP</th>\n",
              "      <th>CONTINENT</th>\n",
              "      <th>geometry</th>\n",
              "    </tr>\n",
              "  </thead>\n",
              "  <tbody>\n",
              "    <tr>\n",
              "      <th>0</th>\n",
              "      <td>Indonesia</td>\n",
              "      <td>260580739</td>\n",
              "      <td>17</td>\n",
              "      <td>3028000.0</td>\n",
              "      <td>2017</td>\n",
              "      <td>2010</td>\n",
              "      <td>2016</td>\n",
              "      <td>4. Emerging region: MIKT</td>\n",
              "      <td>4. Lower middle income</td>\n",
              "      <td>Asia</td>\n",
              "      <td>(POLYGON ((117.7036079039552 4.163414542001791...</td>\n",
              "    </tr>\n",
              "    <tr>\n",
              "      <th>1</th>\n",
              "      <td>Malaysia</td>\n",
              "      <td>31381992</td>\n",
              "      <td>15</td>\n",
              "      <td>863000.0</td>\n",
              "      <td>2017</td>\n",
              "      <td>2010</td>\n",
              "      <td>2016</td>\n",
              "      <td>6. Developing region</td>\n",
              "      <td>3. Upper middle income</td>\n",
              "      <td>Asia</td>\n",
              "      <td>(POLYGON ((117.7036079039552 4.163414542001791...</td>\n",
              "    </tr>\n",
              "    <tr>\n",
              "      <th>2</th>\n",
              "      <td>Chile</td>\n",
              "      <td>17789267</td>\n",
              "      <td>14</td>\n",
              "      <td>436100.0</td>\n",
              "      <td>2017</td>\n",
              "      <td>2002</td>\n",
              "      <td>2016</td>\n",
              "      <td>5. Emerging region: G20</td>\n",
              "      <td>3. Upper middle income</td>\n",
              "      <td>South America</td>\n",
              "      <td>(POLYGON ((-69.51008875199994 -17.506588197999...</td>\n",
              "    </tr>\n",
              "    <tr>\n",
              "      <th>3</th>\n",
              "      <td>Bolivia</td>\n",
              "      <td>11138234</td>\n",
              "      <td>14</td>\n",
              "      <td>78350.0</td>\n",
              "      <td>2017</td>\n",
              "      <td>2001</td>\n",
              "      <td>2016</td>\n",
              "      <td>5. Emerging region: G20</td>\n",
              "      <td>4. Lower middle income</td>\n",
              "      <td>South America</td>\n",
              "      <td>(POLYGON ((-69.51008875199994 -17.506588197999...</td>\n",
              "    </tr>\n",
              "    <tr>\n",
              "      <th>4</th>\n",
              "      <td>Peru</td>\n",
              "      <td>31036656</td>\n",
              "      <td>15</td>\n",
              "      <td>410400.0</td>\n",
              "      <td>2017</td>\n",
              "      <td>2007</td>\n",
              "      <td>2016</td>\n",
              "      <td>5. Emerging region: G20</td>\n",
              "      <td>3. Upper middle income</td>\n",
              "      <td>South America</td>\n",
              "      <td>(POLYGON ((-69.51008875199994 -17.506588197999...</td>\n",
              "    </tr>\n",
              "  </tbody>\n",
              "</table>\n",
              "</div>"
            ],
            "text/plain": [
              "        NAME  ...                                           geometry\n",
              "0  Indonesia  ...  (POLYGON ((117.7036079039552 4.163414542001791...\n",
              "1   Malaysia  ...  (POLYGON ((117.7036079039552 4.163414542001791...\n",
              "2      Chile  ...  (POLYGON ((-69.51008875199994 -17.506588197999...\n",
              "3    Bolivia  ...  (POLYGON ((-69.51008875199994 -17.506588197999...\n",
              "4       Peru  ...  (POLYGON ((-69.51008875199994 -17.506588197999...\n",
              "\n",
              "[5 rows x 11 columns]"
            ]
          },
          "execution_count": 30,
          "metadata": {
            "tags": []
          },
          "output_type": "execute_result"
        }
      ],
      "source": [
        "countries.head()"
      ]
    },
    {
      "cell_type": "code",
      "execution_count": 31,
      "metadata": {
        "colab": {
          "base_uri": "https://localhost:8080/",
          "height": 34
        },
        "colab_type": "code",
        "id": "56hrhLsddjwb",
        "outputId": "53e4061a-3f6e-4290-8f66-acb19544067e",
        "vscode": {
          "languageId": "python"
        }
      },
      "outputs": [
        {
          "data": {
            "text/plain": [
              "(253, 11)"
            ]
          },
          "execution_count": 31,
          "metadata": {
            "tags": []
          },
          "output_type": "execute_result"
        }
      ],
      "source": [
        "# Rows and columns of the countries data\n",
        "countries.shape"
      ]
    },
    {
      "cell_type": "markdown",
      "metadata": {
        "colab_type": "text",
        "id": "mR_J37WYdpVa"
      },
      "source": [
        "### DataFrame vs. GeoDataFrame.\n",
        "\n",
        "\n",
        "A GeoDataFrame is a tabular data structure that contains a GeoSeries.\n",
        "\n",
        "The most important property of a GeoDataFrame is that it always has one GeoSeries column that holds a special status. This GeoSeries is referred to as the GeoDataFrame’s “geometry”. When a spatial method is applied to a GeoDataFrame (or a spatial attribute like area is called), this commands will always act on the “geometry” column.\n",
        "\n",
        "If you have more than one column, you have either a dataFrame or GeodataFrame. If One of the columns is a Geoemetry Column, then it is called a **GeoeDataFrame**. Otherwise, it is a **DataFrame** if any of the columns is not a geometry column. Similarly, One column means you have either a Series or Geoseries data type. If the only column is the Geometry column, then it is called Geoseries. Let us see an example of each data type"
      ]
    },
    {
      "cell_type": "code",
      "execution_count": 32,
      "metadata": {
        "colab": {
          "base_uri": "https://localhost:8080/",
          "height": 34
        },
        "colab_type": "code",
        "id": "2HspFF5tdyJf",
        "outputId": "68ac3bc5-882b-424b-9227-079dd44c8b35",
        "vscode": {
          "languageId": "python"
        }
      },
      "outputs": [
        {
          "data": {
            "text/plain": [
              "pandas.core.frame.DataFrame"
            ]
          },
          "execution_count": 32,
          "metadata": {
            "tags": []
          },
          "output_type": "execute_result"
        }
      ],
      "source": [
        "# DataFrame\n",
        "dataFrame = countries[['NAME', 'POP_EST']]\n",
        "\n",
        "dataFrame.head()\n",
        "type(dataFrame)"
      ]
    },
    {
      "cell_type": "code",
      "execution_count": 33,
      "metadata": {
        "colab": {
          "base_uri": "https://localhost:8080/",
          "height": 34
        },
        "colab_type": "code",
        "id": "AGut6MMyd0Va",
        "outputId": "b0ac78c4-58a5-4fc5-fb89-7eacb2949632",
        "vscode": {
          "languageId": "python"
        }
      },
      "outputs": [
        {
          "data": {
            "text/plain": [
              "geopandas.geodataframe.GeoDataFrame"
            ]
          },
          "execution_count": 33,
          "metadata": {
            "tags": []
          },
          "output_type": "execute_result"
        }
      ],
      "source": [
        "# GeoDataFrame\n",
        "geoDataFrame = countries[['geometry', 'NAME']]\n",
        "geoDataFrame.head()\n",
        "type(geoDataFrame)"
      ]
    },
    {
      "cell_type": "code",
      "execution_count": 34,
      "metadata": {
        "colab": {
          "base_uri": "https://localhost:8080/",
          "height": 34
        },
        "colab_type": "code",
        "id": "cEJaaVtzd2Z5",
        "outputId": "08c462ce-f022-4c7c-cd5a-74332d8cbe30",
        "vscode": {
          "languageId": "python"
        }
      },
      "outputs": [
        {
          "data": {
            "text/plain": [
              "pandas.core.series.Series"
            ]
          },
          "execution_count": 34,
          "metadata": {
            "tags": []
          },
          "output_type": "execute_result"
        }
      ],
      "source": [
        "# Series\n",
        "series = countries['NAME']\n",
        "series[:5]\n",
        "type(series)"
      ]
    },
    {
      "cell_type": "code",
      "execution_count": 35,
      "metadata": {
        "colab": {
          "base_uri": "https://localhost:8080/",
          "height": 34
        },
        "colab_type": "code",
        "id": "wpTI5fhad4Fh",
        "outputId": "e097f1db-c071-4159-c801-1ce3ef4ffd9f",
        "vscode": {
          "languageId": "python"
        }
      },
      "outputs": [
        {
          "data": {
            "text/plain": [
              "geopandas.geoseries.GeoSeries"
            ]
          },
          "execution_count": 35,
          "metadata": {
            "tags": []
          },
          "output_type": "execute_result"
        }
      ],
      "source": [
        "# GeoSeries\n",
        "geoSeries = countries['geometry']\n",
        "geoSeries[:5]\n",
        "type(geoSeries)"
      ]
    },
    {
      "cell_type": "code",
      "execution_count": 60,
      "metadata": {
        "colab": {
          "base_uri": "https://localhost:8080/",
          "height": 367
        },
        "colab_type": "code",
        "id": "VxZF6RR4rRoW",
        "outputId": "dfbb662e-f932-4107-f7d0-073a6206d487",
        "vscode": {
          "languageId": "python"
        }
      },
      "outputs": [
        {
          "data": {
            "image/png": "[encoded data removed]",
            "text/plain": [
              "<Figure size 864x864 with 1 Axes>"
            ]
          },
          "metadata": {
            "tags": []
          },
          "output_type": "display_data"
        }
      ],
      "source": [
        "fig, ax = plt.subplots(figsize=(12,12))\n",
        "geoDataFrame.centroid.plot(ax=ax)\n",
        "plt.tight_layout()\n",
        "plt.savefig('centroid.png')\n",
        "plt.show()"
      ]
    },
    {
      "cell_type": "code",
      "execution_count": 65,
      "metadata": {
        "colab": {
          "base_uri": "https://localhost:8080/",
          "height": 189
        },
        "colab_type": "code",
        "id": "bpWcY7iRd5p5",
        "outputId": "46fe61a7-50b6-478d-8f4a-0d721539c9ff",
        "vscode": {
          "languageId": "python"
        }
      },
      "outputs": [
        {
          "data": {
            "image/png": "[encoded data removed]",
            "text/plain": [
              "<Figure size 432x288 with 1 Axes>"
            ]
          },
          "metadata": {
            "tags": []
          },
          "output_type": "display_data"
        }
      ],
      "source": [
        "geoDataFrame.centroid.plot();\n",
        "plt.tight_layout()\n",
        "plt.savefig('centriod_plot.png')\n",
        "\n"
      ]
    },
    {
      "cell_type": "code",
      "execution_count": 37,
      "metadata": {
        "colab": {
          "base_uri": "https://localhost:8080/",
          "height": 118
        },
        "colab_type": "code",
        "id": "9BJs5avfd_RY",
        "outputId": "872f8281-095b-4607-e5c0-3a88c1c9170c",
        "vscode": {
          "languageId": "python"
        }
      },
      "outputs": [
        {
          "data": {
            "text/plain": [
              "0    153.078608\n",
              "1     26.703172\n",
              "2     76.761813\n",
              "3     92.203587\n",
              "4    106.417089\n",
              "dtype: float64"
            ]
          },
          "execution_count": 37,
          "metadata": {
            "tags": []
          },
          "output_type": "execute_result"
        }
      ],
      "source": [
        "geoSeries.area[:5]"
      ]
    },
    {
      "cell_type": "markdown",
      "metadata": {
        "colab_type": "text",
        "id": "kBEFflkSeEh_"
      },
      "source": [
        "## 2. Table Join vs. Spatial join\n",
        "\n",
        "Table joins is classical query operation where we have two separate tables, for example, sharing one column. In that case, you can perform a table join where the two tables are joined using the shared column. On the other hand, spatial join relates to geographic operations, for example, joining by location each city and its country. We will see both examples below."
      ]
    },
    {
      "cell_type": "code",
      "execution_count": 38,
      "metadata": {
        "colab": {
          "base_uri": "https://localhost:8080/",
          "height": 195
        },
        "colab_type": "code",
        "id": "7qRzkIe4ePKz",
        "outputId": "9b63f312-cb2d-4431-92ff-d927738f3ddc",
        "vscode": {
          "languageId": "python"
        }
      },
      "outputs": [
        {
          "data": {
            "text/html": [
              "<div>\n",
              "<style scoped>\n",
              "    .dataframe tbody tr th:only-of-type {\n",
              "        vertical-align: middle;\n",
              "    }\n",
              "\n",
              "    .dataframe tbody tr th {\n",
              "        vertical-align: top;\n",
              "    }\n",
              "\n",
              "    .dataframe thead th {\n",
              "        text-align: right;\n",
              "    }\n",
              "</style>\n",
              "<table border=\"1\" class=\"dataframe\">\n",
              "  <thead>\n",
              "    <tr style=\"text-align: right;\">\n",
              "      <th></th>\n",
              "      <th>geometry</th>\n",
              "      <th>NAME</th>\n",
              "    </tr>\n",
              "  </thead>\n",
              "  <tbody>\n",
              "    <tr>\n",
              "      <th>0</th>\n",
              "      <td>(POLYGON ((117.7036079039552 4.163414542001791...</td>\n",
              "      <td>Indonesia</td>\n",
              "    </tr>\n",
              "    <tr>\n",
              "      <th>1</th>\n",
              "      <td>(POLYGON ((117.7036079039552 4.163414542001791...</td>\n",
              "      <td>Malaysia</td>\n",
              "    </tr>\n",
              "    <tr>\n",
              "      <th>2</th>\n",
              "      <td>(POLYGON ((-69.51008875199994 -17.506588197999...</td>\n",
              "      <td>Chile</td>\n",
              "    </tr>\n",
              "    <tr>\n",
              "      <th>3</th>\n",
              "      <td>(POLYGON ((-69.51008875199994 -17.506588197999...</td>\n",
              "      <td>Bolivia</td>\n",
              "    </tr>\n",
              "    <tr>\n",
              "      <th>4</th>\n",
              "      <td>(POLYGON ((-69.51008875199994 -17.506588197999...</td>\n",
              "      <td>Peru</td>\n",
              "    </tr>\n",
              "  </tbody>\n",
              "</table>\n",
              "</div>"
            ],
            "text/plain": [
              "                                            geometry       NAME\n",
              "0  (POLYGON ((117.7036079039552 4.163414542001791...  Indonesia\n",
              "1  (POLYGON ((117.7036079039552 4.163414542001791...   Malaysia\n",
              "2  (POLYGON ((-69.51008875199994 -17.506588197999...      Chile\n",
              "3  (POLYGON ((-69.51008875199994 -17.506588197999...    Bolivia\n",
              "4  (POLYGON ((-69.51008875199994 -17.506588197999...       Peru"
            ]
          },
          "execution_count": 38,
          "metadata": {
            "tags": []
          },
          "output_type": "execute_result"
        }
      ],
      "source": [
        "# To simplify let us seperate country table into two tables. \n",
        "\n",
        "# This table holds the geometry and country names\n",
        "country_shapes = countries[['geometry', 'NAME']]\n",
        "country_shapes.head()\n"
      ]
    },
    {
      "cell_type": "code",
      "execution_count": 39,
      "metadata": {
        "colab": {
          "base_uri": "https://localhost:8080/",
          "height": 195
        },
        "colab_type": "code",
        "id": "8J5i6IG-eUIL",
        "outputId": "6cafe90b-5126-4f37-e6c6-1b14e27d9fad",
        "vscode": {
          "languageId": "python"
        }
      },
      "outputs": [
        {
          "data": {
            "text/html": [
              "<div>\n",
              "<style scoped>\n",
              "    .dataframe tbody tr th:only-of-type {\n",
              "        vertical-align: middle;\n",
              "    }\n",
              "\n",
              "    .dataframe tbody tr th {\n",
              "        vertical-align: top;\n",
              "    }\n",
              "\n",
              "    .dataframe thead th {\n",
              "        text-align: right;\n",
              "    }\n",
              "</style>\n",
              "<table border=\"1\" class=\"dataframe\">\n",
              "  <thead>\n",
              "    <tr style=\"text-align: right;\">\n",
              "      <th></th>\n",
              "      <th>NAME</th>\n",
              "      <th>POP_EST</th>\n",
              "    </tr>\n",
              "  </thead>\n",
              "  <tbody>\n",
              "    <tr>\n",
              "      <th>0</th>\n",
              "      <td>Indonesia</td>\n",
              "      <td>260580739</td>\n",
              "    </tr>\n",
              "    <tr>\n",
              "      <th>1</th>\n",
              "      <td>Malaysia</td>\n",
              "      <td>31381992</td>\n",
              "    </tr>\n",
              "    <tr>\n",
              "      <th>2</th>\n",
              "      <td>Chile</td>\n",
              "      <td>17789267</td>\n",
              "    </tr>\n",
              "    <tr>\n",
              "      <th>3</th>\n",
              "      <td>Bolivia</td>\n",
              "      <td>11138234</td>\n",
              "    </tr>\n",
              "    <tr>\n",
              "      <th>4</th>\n",
              "      <td>Peru</td>\n",
              "      <td>31036656</td>\n",
              "    </tr>\n",
              "  </tbody>\n",
              "</table>\n",
              "</div>"
            ],
            "text/plain": [
              "        NAME    POP_EST\n",
              "0  Indonesia  260580739\n",
              "1   Malaysia   31381992\n",
              "2      Chile   17789267\n",
              "3    Bolivia   11138234\n",
              "4       Peru   31036656"
            ]
          },
          "execution_count": 39,
          "metadata": {
            "tags": []
          },
          "output_type": "execute_result"
        }
      ],
      "source": [
        "# This table holds Country names and Population estimate\n",
        "country_names = countries[['NAME', 'POP_EST']]\n",
        "country_names.head()\n",
        "# Notice that is not geodataframe as it does not have any geometry.\n",
        "# Check its type"
      ]
    },
    {
      "cell_type": "markdown",
      "metadata": {
        "colab_type": "text",
        "id": "qtp8Jo1cfAB0"
      },
      "source": [
        "We can join/merge the two tables based on their shared column NAME. This is pure pandas operation and does not entail any geographic operations."
      ]
    },
    {
      "cell_type": "code",
      "execution_count": 41,
      "metadata": {
        "colab": {
          "base_uri": "https://localhost:8080/",
          "height": 195
        },
        "colab_type": "code",
        "id": "YoEP5KvzfL9Y",
        "outputId": "534d3d68-4f9a-41a9-f328-3496c7e0350f",
        "vscode": {
          "languageId": "python"
        }
      },
      "outputs": [
        {
          "data": {
            "text/html": [
              "<div>\n",
              "<style scoped>\n",
              "    .dataframe tbody tr th:only-of-type {\n",
              "        vertical-align: middle;\n",
              "    }\n",
              "\n",
              "    .dataframe tbody tr th {\n",
              "        vertical-align: top;\n",
              "    }\n",
              "\n",
              "    .dataframe thead th {\n",
              "        text-align: right;\n",
              "    }\n",
              "</style>\n",
              "<table border=\"1\" class=\"dataframe\">\n",
              "  <thead>\n",
              "    <tr style=\"text-align: right;\">\n",
              "      <th></th>\n",
              "      <th>geometry</th>\n",
              "      <th>NAME</th>\n",
              "      <th>POP_EST</th>\n",
              "    </tr>\n",
              "  </thead>\n",
              "  <tbody>\n",
              "    <tr>\n",
              "      <th>0</th>\n",
              "      <td>(POLYGON ((117.7036079039552 4.163414542001791...</td>\n",
              "      <td>Indonesia</td>\n",
              "      <td>260580739</td>\n",
              "    </tr>\n",
              "    <tr>\n",
              "      <th>1</th>\n",
              "      <td>(POLYGON ((117.7036079039552 4.163414542001791...</td>\n",
              "      <td>Malaysia</td>\n",
              "      <td>31381992</td>\n",
              "    </tr>\n",
              "    <tr>\n",
              "      <th>2</th>\n",
              "      <td>(POLYGON ((-69.51008875199994 -17.506588197999...</td>\n",
              "      <td>Chile</td>\n",
              "      <td>17789267</td>\n",
              "    </tr>\n",
              "    <tr>\n",
              "      <th>3</th>\n",
              "      <td>(POLYGON ((-69.51008875199994 -17.506588197999...</td>\n",
              "      <td>Bolivia</td>\n",
              "      <td>11138234</td>\n",
              "    </tr>\n",
              "    <tr>\n",
              "      <th>4</th>\n",
              "      <td>(POLYGON ((-69.51008875199994 -17.506588197999...</td>\n",
              "      <td>Peru</td>\n",
              "      <td>31036656</td>\n",
              "    </tr>\n",
              "  </tbody>\n",
              "</table>\n",
              "</div>"
            ],
            "text/plain": [
              "                                            geometry       NAME    POP_EST\n",
              "0  (POLYGON ((117.7036079039552 4.163414542001791...  Indonesia  260580739\n",
              "1  (POLYGON ((117.7036079039552 4.163414542001791...   Malaysia   31381992\n",
              "2  (POLYGON ((-69.51008875199994 -17.506588197999...      Chile   17789267\n",
              "3  (POLYGON ((-69.51008875199994 -17.506588197999...    Bolivia   11138234\n",
              "4  (POLYGON ((-69.51008875199994 -17.506588197999...       Peru   31036656"
            ]
          },
          "execution_count": 41,
          "metadata": {
            "tags": []
          },
          "output_type": "execute_result"
        }
      ],
      "source": [
        "# Merge country_shapes to country names on ISO_A3 Column. \n",
        "country_merged = country_shapes.merge(country_names, on='NAME', how='left')\n",
        "country_merged.head()"
      ]
    },
    {
      "cell_type": "markdown",
      "metadata": {
        "colab_type": "text",
        "id": "jaTe4yXJlgw0"
      },
      "source": [
        "#### Spatial Join"
      ]
    },
    {
      "cell_type": "code",
      "execution_count": null,
      "metadata": {
        "colab": {},
        "colab_type": "code",
        "id": "-woJOveUlfWn",
        "vscode": {
          "languageId": "python"
        }
      },
      "outputs": [],
      "source": [
        "# This gdf holds the geometry and country names\n",
        "country_names = countries[['geometry', 'NAME']]\n",
        "\n",
        "# This gdf holds the geometry and city names\n",
        "cities_names = cities[['name', 'geometry']]"
      ]
    },
    {
      "cell_type": "markdown",
      "metadata": {
        "colab_type": "text",
        "id": "4wvBEwZol5vX"
      },
      "source": [
        "\n",
        "We will perform an example of a spatial join. We want to join the two tables based on their locations. For example, which country does contain which city or which city is within which country. We will use Geopandas function.\n",
        "\n",
        "```\n",
        "sjoin()\n",
        "\n",
        "```\n",
        "\n",
        "to do the spatial join."
      ]
    },
    {
      "cell_type": "code",
      "execution_count": 47,
      "metadata": {
        "colab": {
          "base_uri": "https://localhost:8080/",
          "height": 279
        },
        "colab_type": "code",
        "id": "8NB7RjGOlpST",
        "outputId": "e45a6e85-5641-4504-cee4-07beebe0742b",
        "vscode": {
          "languageId": "python"
        }
      },
      "outputs": [
        {
          "data": {
            "text/html": [
              "<div>\n",
              "<style scoped>\n",
              "    .dataframe tbody tr th:only-of-type {\n",
              "        vertical-align: middle;\n",
              "    }\n",
              "\n",
              "    .dataframe tbody tr th {\n",
              "        vertical-align: top;\n",
              "    }\n",
              "\n",
              "    .dataframe thead th {\n",
              "        text-align: right;\n",
              "    }\n",
              "</style>\n",
              "<table border=\"1\" class=\"dataframe\">\n",
              "  <thead>\n",
              "    <tr style=\"text-align: right;\">\n",
              "      <th></th>\n",
              "      <th>name</th>\n",
              "      <th>geometry</th>\n",
              "      <th>index_right</th>\n",
              "      <th>NAME</th>\n",
              "    </tr>\n",
              "  </thead>\n",
              "  <tbody>\n",
              "    <tr>\n",
              "      <th>3869</th>\n",
              "      <td>Bitam</td>\n",
              "      <td>POINT (11.48337113307133 2.083657042342452)</td>\n",
              "      <td>146</td>\n",
              "      <td>Gabon</td>\n",
              "    </tr>\n",
              "    <tr>\n",
              "      <th>5354</th>\n",
              "      <td>Latur</td>\n",
              "      <td>POINT (76.56999263398285 18.40041302385299)</td>\n",
              "      <td>8</td>\n",
              "      <td>India</td>\n",
              "    </tr>\n",
              "    <tr>\n",
              "      <th>3487</th>\n",
              "      <td>Latacunga</td>\n",
              "      <td>POINT (-78.60996687998431 -0.929569886380477)</td>\n",
              "      <td>136</td>\n",
              "      <td>Ecuador</td>\n",
              "    </tr>\n",
              "    <tr>\n",
              "      <th>5215</th>\n",
              "      <td>Wanzhou</td>\n",
              "      <td>POINT (108.40003942773 30.81999086407211)</td>\n",
              "      <td>9</td>\n",
              "      <td>China</td>\n",
              "    </tr>\n",
              "    <tr>\n",
              "      <th>6467</th>\n",
              "      <td>Matamoros</td>\n",
              "      <td>POINT (-97.50000248390103 25.87998231913042)</td>\n",
              "      <td>155</td>\n",
              "      <td>Mexico</td>\n",
              "    </tr>\n",
              "  </tbody>\n",
              "</table>\n",
              "</div>"
            ],
            "text/plain": [
              "           name  ...     NAME\n",
              "3869      Bitam  ...    Gabon\n",
              "5354      Latur  ...    India\n",
              "3487  Latacunga  ...  Ecuador\n",
              "5215    Wanzhou  ...    China\n",
              "6467  Matamoros  ...   Mexico\n",
              "\n",
              "[5 rows x 4 columns]"
            ]
          },
          "execution_count": 47,
          "metadata": {
            "tags": []
          },
          "output_type": "execute_result"
        }
      ],
      "source": [
        "# Merge city names and country names\n",
        "cities_with_country = gpd.sjoin(cities_names, country_names, how=\"inner\", op='within')\n",
        "cities_with_country.sample(5)\n"
      ]
    },
    {
      "cell_type": "markdown",
      "metadata": {
        "colab_type": "text",
        "id": "ZoKNUEWGmLdI"
      },
      "source": [
        "Each city is matched with its corresponding country based on the location. We have used op=within which takes city points that are within a countries polygon. Here we could also use intersect. Also, we could use op=contain and find out which countries contain the city points."
      ]
    },
    {
      "cell_type": "markdown",
      "metadata": {
        "colab_type": "text",
        "id": "cjgUGffEmQIm"
      },
      "source": [
        "## 3. Buffer Analysis\n",
        "Buffer analysis is an important geoprocessing task. It is used widely in many domains to get a distance around a point. In this example, we will first get a city in Sweden and then do a buffer around it. One tricky thing here is you need to know which CRS/projection you are using to get the correct output you want. If your data is not projected into projection where meters are used, then the output will not be in meters. This is a classical error in the world of Geodata. I have used this resource to find out which crs sweden has in meters: http://spatialreference.org/ref/epsg/sweref99-tm/"
      ]
    },
    {
      "cell_type": "code",
      "execution_count": 48,
      "metadata": {
        "colab": {
          "base_uri": "https://localhost:8080/",
          "height": 130
        },
        "colab_type": "code",
        "id": "DMaafbbnl_Ou",
        "outputId": "39996ab4-e3b2-463a-e9b0-b3c0c55c7712",
        "vscode": {
          "languageId": "python"
        }
      },
      "outputs": [
        {
          "data": {
            "text/html": [
              "<div>\n",
              "<style scoped>\n",
              "    .dataframe tbody tr th:only-of-type {\n",
              "        vertical-align: middle;\n",
              "    }\n",
              "\n",
              "    .dataframe tbody tr th {\n",
              "        vertical-align: top;\n",
              "    }\n",
              "\n",
              "    .dataframe thead th {\n",
              "        text-align: right;\n",
              "    }\n",
              "</style>\n",
              "<table border=\"1\" class=\"dataframe\">\n",
              "  <thead>\n",
              "    <tr style=\"text-align: right;\">\n",
              "      <th></th>\n",
              "      <th>name</th>\n",
              "      <th>worldcity</th>\n",
              "      <th>megacity</th>\n",
              "      <th>latitude</th>\n",
              "      <th>longitude</th>\n",
              "      <th>pop_max</th>\n",
              "      <th>pop_min</th>\n",
              "      <th>pop_other</th>\n",
              "      <th>geometry</th>\n",
              "    </tr>\n",
              "  </thead>\n",
              "  <tbody>\n",
              "    <tr>\n",
              "      <th>7287</th>\n",
              "      <td>Stockholm</td>\n",
              "      <td>1.0</td>\n",
              "      <td>1</td>\n",
              "      <td>59.35076</td>\n",
              "      <td>18.097335</td>\n",
              "      <td>1264000</td>\n",
              "      <td>1253309</td>\n",
              "      <td>0</td>\n",
              "      <td>POINT (675974.0101142136 6583418.11625758)</td>\n",
              "    </tr>\n",
              "  </tbody>\n",
              "</table>\n",
              "</div>"
            ],
            "text/plain": [
              "           name  ...                                    geometry\n",
              "7287  Stockholm  ...  POINT (675974.0101142136 6583418.11625758)\n",
              "\n",
              "[1 rows x 9 columns]"
            ]
          },
          "execution_count": 48,
          "metadata": {
            "tags": []
          },
          "output_type": "execute_result"
        }
      ],
      "source": [
        "# Find out stockholm from the cities\n",
        "stocholm = cities[cities.name == 'Stockholm']\n",
        "stocholm = stocholm.to_crs({'init': 'epsg:3006'})\n",
        "stocholm"
      ]
    },
    {
      "cell_type": "code",
      "execution_count": 66,
      "metadata": {
        "colab": {
          "base_uri": "https://localhost:8080/",
          "height": 385
        },
        "colab_type": "code",
        "id": "jPLYSoGEmVbW",
        "outputId": "b5e33e9e-f680-4d4a-dbed-37824f8e5e3e",
        "vscode": {
          "languageId": "python"
        }
      },
      "outputs": [
        {
          "data": {
            "image/png": "[encoded data removed]",
            "text/plain": [
              "<Figure size 576x432 with 1 Axes>"
            ]
          },
          "metadata": {
            "tags": []
          },
          "output_type": "display_data"
        }
      ],
      "source": [
        "# Let us create a buffer of 500, 200, 100 meters and plot them\n",
        "stocholm_100 = stocholm.buffer(100)\n",
        "stocholm_200 = stocholm.buffer(200)\n",
        "stocholm_500 = stocholm.buffer(500)\n",
        "fig, ax = plt.subplots(figsize=(8,6))\n",
        "\n",
        "stocholm_500.plot(ax=ax, color='lightblue')\n",
        "stocholm_200.plot(ax=ax, color='gray')\n",
        "stocholm_100.plot(ax=ax, color='brown')\n",
        "stocholm.plot(ax=ax, color='Yellow');\n",
        "plt.savefig('buffer.png')"
      ]
    },
    {
      "cell_type": "markdown",
      "metadata": {
        "colab_type": "text",
        "id": "GKoBiGxemfBA"
      },
      "source": [
        "## 4. Overlay\n",
        "We sometimes need to create new features out of different data types like Points, Lines and Polygons. Set operations or Overlays play an important role here. We will be using the same dataset but instead of reading it from our desk folders we can use built-in dataset reading mechanism in Geopandas. This example comes from Geopandas documentation."
      ]
    },
    {
      "cell_type": "code",
      "execution_count": 51,
      "metadata": {
        "colab": {
          "base_uri": "https://localhost:8080/",
          "height": 34
        },
        "colab_type": "code",
        "id": "CtxwVfFAmhjT",
        "outputId": "37e76237-12e1-4d1d-a9d2-482e5090ade1",
        "vscode": {
          "languageId": "python"
        }
      },
      "outputs": [
        {
          "data": {
            "text/plain": [
              "['naturalearth_lowres', 'naturalearth_cities', 'nybb']"
            ]
          },
          "execution_count": 51,
          "metadata": {
            "tags": []
          },
          "output_type": "execute_result"
        }
      ],
      "source": [
        "# Let us see what data is available in Geopandas\n",
        "gpd.datasets.available"
      ]
    },
    {
      "cell_type": "code",
      "execution_count": null,
      "metadata": {
        "colab": {},
        "colab_type": "code",
        "id": "qVWz9v7VmhYf",
        "vscode": {
          "languageId": "python"
        }
      },
      "outputs": [],
      "source": [
        "# Read from the geopandas dataset\n",
        "world = gpd.read_file(gpd.datasets.get_path('naturalearth_lowres'))\n",
        "capitals = gpd.read_file(gpd.datasets.get_path('naturalearth_cities'))\n",
        "\n",
        "#capitals.head()\n",
        "#capitals.plot()"
      ]
    },
    {
      "cell_type": "code",
      "execution_count": 67,
      "metadata": {
        "colab": {
          "base_uri": "https://localhost:8080/",
          "height": 269
        },
        "colab_type": "code",
        "id": "HtayunrImm8b",
        "outputId": "86c661dc-9fe4-488d-b75a-d5f0eb30e6f7",
        "vscode": {
          "languageId": "python"
        }
      },
      "outputs": [
        {
          "data": {
            "image/png": "[encoded data removed]",
            "text/plain": [
              "<Figure size 432x288 with 1 Axes>"
            ]
          },
          "metadata": {
            "tags": []
          },
          "output_type": "display_data"
        }
      ],
      "source": [
        "# Select Africa\n",
        "africa = world[world['continent'] == \"Africa\"]\n",
        "africa = africa[['geometry', 'name']]\n",
        "\n",
        "#africa.shape\n",
        "africa.plot();\n",
        "plt.savefig('africa.png')"
      ]
    },
    {
      "cell_type": "code",
      "execution_count": null,
      "metadata": {
        "colab": {},
        "colab_type": "code",
        "id": "5t1MrrMsmo9e",
        "vscode": {
          "languageId": "python"
        }
      },
      "outputs": [],
      "source": [
        "# Project to crs that uses meters as distance measure\n",
        "africa = africa.to_crs('+init=epsg:3395')\n",
        "capitals = capitals.to_crs('+init=epsg:3395')"
      ]
    },
    {
      "cell_type": "markdown",
      "metadata": {
        "colab_type": "text",
        "id": "CKem-6ggmv2l"
      },
      "source": [
        "To illustrate the overlay function, consider the following case in which one wishes to identify the “core” portion of each country – defined as areas within 500km of a capital – using a GeoDataFrame of Africa and a GeoDataFrame of capitals."
      ]
    },
    {
      "cell_type": "code",
      "execution_count": 56,
      "metadata": {
        "colab": {
          "base_uri": "https://localhost:8080/",
          "height": 199
        },
        "colab_type": "code",
        "id": "wUEZkHVpmt4W",
        "outputId": "f6ee8dfb-bcb6-4d4b-e2bb-ba8bdb3cfa02",
        "vscode": {
          "languageId": "python"
        }
      },
      "outputs": [
        {
          "data": {
            "image/png": "[encoded data removed]",
            "text/plain": [
              "<Figure size 432x288 with 1 Axes>"
            ]
          },
          "metadata": {
            "tags": []
          },
          "output_type": "display_data"
        }
      ],
      "source": [
        "# make 500km buffer\n",
        "capitals['geometry']= capitals.buffer(500000)\n",
        "capitals.plot();"
      ]
    },
    {
      "cell_type": "markdown",
      "metadata": {
        "colab_type": "text",
        "id": "6H2_ktIDm028"
      },
      "source": [
        "To select only the portion of countries within 500km of a capital, we specify the how option to be “intersect”, which creates a new set of polygons where these two layers overlap:"
      ]
    },
    {
      "cell_type": "code",
      "execution_count": 57,
      "metadata": {
        "colab": {
          "base_uri": "https://localhost:8080/",
          "height": 269
        },
        "colab_type": "code",
        "id": "MHjRpb_GmyO9",
        "outputId": "8ddf2b3f-7a85-405d-bb83-78985a8815d4",
        "vscode": {
          "languageId": "python"
        }
      },
      "outputs": [
        {
          "data": {
            "image/png": "[encoded data removed]",
            "text/plain": [
              "<Figure size 432x288 with 1 Axes>"
            ]
          },
          "metadata": {
            "tags": []
          },
          "output_type": "display_data"
        }
      ],
      "source": [
        "africa_cores = gpd.overlay(africa, capitals, how='intersection')\n",
        "africa_cores.plot(alpha=0.5, edgecolor='k', cmap='tab10');"
      ]
    },
    {
      "cell_type": "markdown",
      "metadata": {
        "colab_type": "text",
        "id": "BG2W0Ashm6_o"
      },
      "source": [
        "Changing the “how” option allows for different types of overlay operations. For example, if we were interested in the portions of countries far from capitals (the peripheries), we would compute the difference between the two."
      ]
    },
    {
      "cell_type": "code",
      "execution_count": 58,
      "metadata": {
        "colab": {
          "base_uri": "https://localhost:8080/",
          "height": 269
        },
        "colab_type": "code",
        "id": "R8RTBT8Tm4D2",
        "outputId": "d7df744c-d1a3-47de-f978-84695074560c",
        "vscode": {
          "languageId": "python"
        }
      },
      "outputs": [
        {
          "data": {
            "image/png": "[encoded data removed]",
            "text/plain": [
              "<Figure size 432x288 with 1 Axes>"
            ]
          },
          "metadata": {
            "tags": []
          },
          "output_type": "display_data"
        }
      ],
      "source": [
        "africa_peripheries = gpd.overlay(africa, capitals, how='difference')\n",
        "\n",
        "africa_peripheries.plot(alpha=0.5, edgecolor='k', cmap='tab10');"
      ]
    },
    {
      "cell_type": "markdown",
      "metadata": {
        "colab_type": "text",
        "id": "YEPeKRkSnCjC"
      },
      "source": [
        "# End"
      ]
    }
  ],
  "metadata": {
    "colab": {
      "collapsed_sections": [],
      "include_colab_link": true,
      "name": "Part2  - Geoprocessing",
      "provenance": [],
      "version": "0.3.2"
    },
    "kernelspec": {
      "display_name": "Python 3",
      "name": "python3"
    }
  },
  "nbformat": 4,
  "nbformat_minor": 0
}
